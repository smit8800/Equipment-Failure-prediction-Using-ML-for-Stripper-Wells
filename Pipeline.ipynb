{
 "cells": [
  {
   "cell_type": "code",
   "execution_count": 6,
   "metadata": {
    "id": "6Hk8T9D6g6vn"
   },
   "outputs": [],
   "source": [
    "import pickle\n",
    "import tqdm\n",
    "import json\n",
    "import numpy as np\n",
    "import pandas as pd"
   ]
  },
  {
   "cell_type": "code",
   "execution_count": 98,
   "metadata": {
    "id": "RYknZfWxhb3y"
   },
   "outputs": [],
   "source": [
    "#loading the data to check our pipeling\n",
    "data = pd.read_csv('/content/drive/My Drive/Case-Study 2 /Datasets/histo_final_data.csv')\n",
    "target = data['target']"
   ]
  },
  {
   "cell_type": "markdown",
   "metadata": {
    "id": "YL3oDlfircLO"
   },
   "source": [
    "#Defining Pipeline:\n"
   ]
  },
  {
   "cell_type": "code",
   "execution_count": 75,
   "metadata": {
    "id": "ogW-hVUdsbDD"
   },
   "outputs": [],
   "source": [
    "#Custom ensemble classifier:\n",
    "#this pipeline's predict method will take single input for our model to predict the label.\n",
    "\n",
    "class Pipeline():\n",
    "  def __init__(self):\n",
    "    self.base_model_path = '/content/drive/My Drive/Case-Study 2 /Model/Base/'\n",
    "    self.meta_model_path = '/content/drive/My Drive/Case-Study 2 /Model/Meta/meta_model.sav'\n",
    "  def initiate_pipeline(self):        \n",
    "    self.base_models = dict()\n",
    "    for k in range(50):\n",
    "      self.base_models[k] = pickle.load(open(self.base_model_path + str(k+1) + '.sav', \"rb\"))\n",
    "    self.meta_model =pickle.load(open(self.meta_model_path, \"rb\"))\n",
    "  def predict(self, data):\n",
    "    input_data = data\n",
    "    pred = []\n",
    "    for k in range(len(models)):\n",
    "      pred.append(self.base_models[k].predict(input_data.reshape(1, -1))[0])    \n",
    "    prediction = self.meta_model.predict(np.array(pred).reshape(1, -1))[0]\n",
    "    return prediction"
   ]
  },
  {
   "cell_type": "markdown",
   "metadata": {
    "id": "L-h8-7dLrndo"
   },
   "source": [
    "#Initiating the Pipeline object:"
   ]
  },
  {
   "cell_type": "code",
   "execution_count": null,
   "metadata": {
    "id": "NoTWwYG1rnFk"
   },
   "outputs": [],
   "source": [
    "#loading pipeline object\n",
    "pipeline = Pipeline()\n",
    "\n",
    "#initing our pipeline by loading the models \n",
    "pipeline.initiate_pipeline()"
   ]
  },
  {
   "cell_type": "markdown",
   "metadata": {
    "id": "o7qJ5mDcnZr1"
   },
   "source": [
    "##Testing the Pipeline: "
   ]
  },
  {
   "cell_type": "code",
   "execution_count": null,
   "metadata": {
    "id": "LkZ5CBe2q0qx"
   },
   "outputs": [],
   "source": [
    "#map the classes to Label\n",
    "#this dict use to show the label of predictions instead of showing just 0 or 1\n",
    "label = {0: 'Not Detected', 1: 'Failure Detected'}"
   ]
  },
  {
   "cell_type": "code",
   "execution_count": 100,
   "metadata": {
    "colab": {
     "base_uri": "https://localhost:8080/",
     "height": 52
    },
    "id": "nQ7wPN2znnsF",
    "outputId": "a434e029-e2ec-4058-f68f-e8792eb1f3bb"
   },
   "outputs": [
    {
     "name": "stdout",
     "output_type": "stream",
     "text": [
      "Original:  Not Detected\n",
      "Prediction:  Not Detected\n"
     ]
    }
   ],
   "source": [
    "#randomaly choosing index from dataset for single raw for the prediciton  \n",
    "idx = np.random.randint(len(data))\n",
    "\n",
    "print(\"Original: \",label[int(target[idx])])\n",
    "print(\"Prediction: \",label[pipeline.predict(data.iloc[idx,1:].values)])"
   ]
  },
  {
   "cell_type": "code",
   "execution_count": 103,
   "metadata": {
    "colab": {
     "base_uri": "https://localhost:8080/",
     "height": 52
    },
    "id": "ZQHuiuTvqe4v",
    "outputId": "43dcd3b2-9905-439c-ba71-dde5d406132b"
   },
   "outputs": [
    {
     "name": "stdout",
     "output_type": "stream",
     "text": [
      "Original:  Failure Detected\n",
      "Prediction:  Failure Detected\n"
     ]
    }
   ],
   "source": [
    "idx = np.random.randint(len(data))\n",
    "\n",
    "print(\"Original: \",label[int(target[idx])])\n",
    "print(\"Prediction: \",label[pipeline.predict(data.iloc[idx,1:].values)])"
   ]
  },
  {
   "cell_type": "code",
   "execution_count": 104,
   "metadata": {
    "colab": {
     "base_uri": "https://localhost:8080/",
     "height": 52
    },
    "id": "-Q3bBLgBqoKt",
    "outputId": "5d60d564-825f-4a78-fe81-ae80db4cbb94"
   },
   "outputs": [
    {
     "name": "stdout",
     "output_type": "stream",
     "text": [
      "Original:  Not Detected\n",
      "Prediction:  Not Detected\n"
     ]
    }
   ],
   "source": [
    "idx = np.random.randint(len(data))\n",
    "\n",
    "print(\"Original: \",label[int(target[idx])])\n",
    "print(\"Prediction: \",label[pipeline.predict(data.iloc[idx,1:].values)])"
   ]
  },
  {
   "cell_type": "code",
   "execution_count": 105,
   "metadata": {
    "colab": {
     "base_uri": "https://localhost:8080/",
     "height": 52
    },
    "id": "Lmc0xTIDqqFK",
    "outputId": "10551625-04f3-4904-d13a-7e82ed091d09"
   },
   "outputs": [
    {
     "name": "stdout",
     "output_type": "stream",
     "text": [
      "Original:  Failure Detected\n",
      "Prediction:  Failure Detected\n"
     ]
    }
   ],
   "source": [
    "idx = np.random.randint(len(data))\n",
    "\n",
    "print(\"Original: \",label[int(target[30994])])\n",
    "print(\"Prediction: \",label[pipeline.predict(data.iloc[30994,1:].values)])"
   ]
  },
  {
   "cell_type": "markdown",
   "metadata": {
    "id": "ynNYLzdVsS7Z"
   },
   "source": [
    "##Conclusion:"
   ]
  },
  {
   "cell_type": "markdown",
   "metadata": {
    "id": "aTsRHjzosWkR"
   },
   "source": [
    "after looking at these results of the inference pipeline, we for industry purpose this pipeline can be installed at the onside Computers or maybe on cloud. Next industry operator or Engineers can connect the sensors with IoT devices to get the reading from senesors and then they can monitor the health of the stripper wells peroidicaly by looking at the predictions of that readings, which will be collcted through Sensors"
   ]
  }
 ],
 "metadata": {
  "colab": {
   "collapsed_sections": [],
   "name": "Pipeline.ipynb",
   "provenance": []
  },
  "kernelspec": {
   "display_name": "Python 3",
   "language": "python",
   "name": "python3"
  },
  "language_info": {
   "codemirror_mode": {
    "name": "ipython",
    "version": 3
   },
   "file_extension": ".py",
   "mimetype": "text/x-python",
   "name": "python",
   "nbconvert_exporter": "python",
   "pygments_lexer": "ipython3",
   "version": "3.7.4"
  }
 },
 "nbformat": 4,
 "nbformat_minor": 1
}
