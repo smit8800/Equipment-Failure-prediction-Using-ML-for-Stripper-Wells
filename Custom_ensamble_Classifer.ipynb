{
 "cells": [
  {
   "cell_type": "code",
   "execution_count": null,
   "metadata": {
    "id": "BrfqHyWCW3Xu"
   },
   "outputs": [],
   "source": [
    "##ref (Custom Ensemble Model) :  https://pdfs.semanticscholar.org/449e/7116d7e2cff37b4d3b1357a23953231b4709.pdf"
   ]
  },
  {
   "cell_type": "code",
   "execution_count": 27,
   "metadata": {
    "id": "jwISjAc6oDDO"
   },
   "outputs": [],
   "source": [
    "import tqdm\n",
    "import numpy as np\n",
    "import pandas as pd\n",
    "import imblearn\n",
    "import seaborn as sns\n",
    "import matplotlib.pyplot as plt\n",
    "from scipy import stats \n",
    "from sklearn.model_selection import train_test_split\n",
    "from sklearn.tree import DecisionTreeClassifier\n",
    "from sklearn.ensemble import RandomForestClassifier\n",
    "from sklearn.ensemble import GradientBoostingClassifier\n",
    "from sklearn.svm import SVC\n",
    "from sklearn.metrics import classification_report, confusion_matrix, f1_score\n",
    "from imblearn.over_sampling import SMOTE\n",
    "from xgboost import XGBClassifier\n",
    "\n",
    "sns.set_style(style=\"whitegrid\")\n",
    "import warnings\n",
    "warnings.filterwarnings('ignore')"
   ]
  },
  {
   "cell_type": "code",
   "execution_count": 19,
   "metadata": {
    "id": "DvAZpHaafnD7"
   },
   "outputs": [],
   "source": [
    "#We have use this fuction to print the confusion, Precision and Recall matrix \n",
    "#reference: https://colab.research.google.com/drive/1YQoysuPgCDJ_HyOuclAYMVd04JNAjzP6\n",
    "\n",
    "def plot_confusion_matrix(test_y, predict_y):\n",
    "    #Confusion matrix\n",
    "    C = confusion_matrix(test_y, predict_y)\n",
    "    \n",
    "    #precision matrix \n",
    "    A =(((C.T)/(C.sum(axis=1))).T)\n",
    "    \n",
    "    #recall matrix \n",
    "    B =(C/C.sum(axis=0))\n",
    "    plt.figure(figsize=(20,4))\n",
    "    \n",
    "    labels = [1,2]\n",
    "    # representing A in heatmap format\n",
    "    cmap=sns.light_palette(\"blue\")\n",
    "\n",
    "    #Heatmap of Confusion matrix\n",
    "    plt.subplot(1, 3, 1)\n",
    "    sns.heatmap(C, annot=True, cmap=cmap, fmt=\".3f\", xticklabels=labels, yticklabels=labels)\n",
    "    plt.xlabel('Predicted Class')\n",
    "    plt.ylabel('Original Class')\n",
    "    plt.title(\"Confusion matrix\")\n",
    "    \n",
    "    #Heatmap of Presicion matrix\n",
    "    plt.subplot(1, 3, 2)\n",
    "    sns.heatmap(B, annot=True, cmap=cmap, fmt=\".3f\", xticklabels=labels, yticklabels=labels)\n",
    "    plt.xlabel('Predicted Class')\n",
    "    plt.ylabel('Original Class')\n",
    "    plt.title(\"Precision matrix\")\n",
    "    \n",
    "    #Heatmap of Recall matrix \n",
    "    plt.subplot(1, 3, 3)\n",
    "    sns.heatmap(A, annot=True, cmap=cmap, fmt=\".3f\", xticklabels=labels, yticklabels=labels)\n",
    "    plt.xlabel('Predicted Class')\n",
    "    plt.ylabel('Original Class')\n",
    "    plt.title(\"Recall matrix\")\n",
    "    \n",
    "    plt.show()"
   ]
  },
  {
   "cell_type": "code",
   "execution_count": 5,
   "metadata": {
    "id": "Dz05-mo5URcp"
   },
   "outputs": [],
   "source": [
    "##meta data generator from the No of k models for given dataset.\n",
    "\n",
    "def Meta_Data_Generator(data, models):\n",
    "  predictions = []\n",
    "  for idx in range(len(data)):\n",
    "    pred = []\n",
    "    for k in range(len(models)):\n",
    "      pred.append(models[k].predict(data[idx].reshape(1, -1))[0])\n",
    "    predictions.append(pred)\n",
    "  return np.array(predictions)"
   ]
  },
  {
   "cell_type": "code",
   "execution_count": 18,
   "metadata": {
    "id": "Vi9RThc0a2gm"
   },
   "outputs": [],
   "source": [
    "##This Fuction defines and trains the Custom ensemble Classification model with Custom coding.... \n",
    "\n",
    "def Custome_classifier(kx, data_path):\n",
    "\n",
    "  #Reads the Dataset\n",
    "  data = pd.read_csv(data_path)\n",
    "  \n",
    "  #Train-Test Split\n",
    "  X = data.iloc[:, 1:].values\n",
    "  Y = np.array(list(map(int, data.iloc[:, 0].values))).reshape(-1,1)\n",
    "  X_train, X_test, y_train, y_test = train_test_split(X, Y, stratify=Y,test_size=0.20)\n",
    "  \n",
    "  #D1-D2 Split\n",
    "  D1_x, D2_x, D1_y, D2_y = train_test_split(X_train, y_train, stratify=y_train,test_size=0.50)\n",
    "\n",
    "  #Train the K classifer for D1 set\n",
    "  K = kx\n",
    "  models = []\n",
    "  for i in range(K):\n",
    "    #Samling with replacment\n",
    "    sample_x, _, sample_y, _ = train_test_split(D1_x, D1_y, stratify=D1_y,test_size=0.50)  \n",
    "    model = DecisionTreeClassifier(max_depth=100)\n",
    "    model.fit(sample_x, sample_y)\n",
    "    models.append(model)\n",
    "\n",
    "  #Prepare thr Dataset for Meta Model by Generating the Meta-Data from k models by passing the D2 set\n",
    "  meta_data = pd.DataFrame(Meta_Data_Generator(D2_x, models))\n",
    "  meta_data['target'] = D2_y\n",
    "  \n",
    "  #Trainng the meta Model\n",
    "  meta_model = RandomForestClassifier(n_estimators=100, max_depth=100)\n",
    "  meta_model.fit(meta_data.iloc[:, :-1].values, meta_data.iloc[:, -1].values)\n",
    "\n",
    "  #Getting the Predictions for Test set and then Calcukating the \"Micro-F1-Score\".\n",
    "  meta_test = Meta_Data_Generator(X_test, models)\n",
    "  y_true = y_test\n",
    "  pred_y = meta_model.predict(meta_test)\n",
    "  return f1_score(y_true, pred_y, average='micro'), y_true, pred_y"
   ]
  },
  {
   "cell_type": "markdown",
   "metadata": {
    "id": "VrAm1SJxXabD"
   },
   "source": [
    "##Datset with (Measure Columns) Only:"
   ]
  },
  {
   "cell_type": "code",
   "execution_count": 8,
   "metadata": {
    "colab": {
     "base_uri": "https://localhost:8080/",
     "height": 67,
     "referenced_widgets": [
      "369afd71cd704b7a911927f8094a3d08",
      "26207d8f239e4033b1f5d9df0b4826ee",
      "81547eecd389467fadd47199e7a35752",
      "faef5c8f84dc4648acf81718dfdfedbb",
      "aa58892f9d6d434487127e493a9cffe0",
      "605cc6d785564a5386cd74ee5954bf45",
      "b32165856e764bd9b3fb39e60fa469a5",
      "5855177eb03340d6a6e8c7578c4cf7fd"
     ]
    },
    "id": "lsiApRseW4Zw",
    "outputId": "793ccec2-eb4e-4f7c-ad78-cd3841d33db9"
   },
   "outputs": [
    {
     "data": {
      "application/vnd.jupyter.widget-view+json": {
       "model_id": "369afd71cd704b7a911927f8094a3d08",
       "version_major": 2,
       "version_minor": 0
      },
      "text/plain": [
       "HBox(children=(FloatProgress(value=0.0, max=7.0), HTML(value='')))"
      ]
     },
     "metadata": {
      "tags": []
     },
     "output_type": "display_data"
    },
    {
     "name": "stdout",
     "output_type": "stream",
     "text": [
      "\n"
     ]
    }
   ],
   "source": [
    "##Hyperparameter tuning for number of base models (k)\n",
    "\n",
    "#Selecting the Dataset path\n",
    "path = '/content/drive/My Drive/Case-Study 2 /Datasets/final_data.csv'\n",
    "\n",
    "score1 = {}\n",
    "for k in tqdm.tqdm_notebook([5, 10, 50, 100, 200, 500, 1000]):\n",
    " score1[k], _, _ = Custome_classifier(k, path)"
   ]
  },
  {
   "cell_type": "code",
   "execution_count": 9,
   "metadata": {
    "colab": {
     "base_uri": "https://localhost:8080/",
     "height": 360
    },
    "id": "YkfKMMeeXFIz",
    "outputId": "bf6ac594-8ebd-4460-8bbb-6a5671c3126b"
   },
   "outputs": [
    {
     "data": {
      "image/png": "[encoded data removed]",
      "text/plain": [
       "<Figure size 576x360 with 1 Axes>"
      ]
     },
     "metadata": {
      "needs_background": "light",
      "tags": []
     },
     "output_type": "display_data"
    }
   ],
   "source": [
    "##Plotting the results of Hyperparameter Tuning \n",
    "\n",
    "fig = plt.figure(figsize=(8,5))\n",
    "plt.scatter(score1.keys(), score1.values(), marker='X', c='r', s=200)\n",
    "plt.title(\"Hyperparameter tuning for k\", fontsize=20)\n",
    "plt.xlabel(\"Number of k\", fontsize=15)\n",
    "plt.ylabel(\"f1-Score(Micro)\", fontsize=15)\n",
    "plt.show()"
   ]
  },
  {
   "cell_type": "markdown",
   "metadata": {
    "id": "XhAUzNDbTRS_"
   },
   "source": [
    "here we can see that for only measure's columns dataset,  we have achived micro f1-score ~0.9860 with k=500, so now we are going to train our model with k=50"
   ]
  },
  {
   "cell_type": "code",
   "execution_count": 26,
   "metadata": {
    "colab": {
     "base_uri": "https://localhost:8080/",
     "height": 313
    },
    "id": "1Bi3z4eFHdKa",
    "outputId": "d056d68a-ba34-452d-fac5-44c9153b2087"
   },
   "outputs": [
    {
     "name": "stdout",
     "output_type": "stream",
     "text": [
      "best No of K =  500 Test-f1-score =  0.98600811529313\n"
     ]
    },
    {
     "data": {
      "image/png": "[encoded data removed]",
      "text/plain": [
       "<Figure size 1440x288 with 6 Axes>"
      ]
     },
     "metadata": {
      "needs_background": "light",
      "tags": []
     },
     "output_type": "display_data"
    }
   ],
   "source": [
    "##Training our model with best K\n",
    "\n",
    "#Selecting the Dataset path\n",
    "path = '/content/drive/My Drive/Case-Study 2 /Datasets/final_data.csv'\n",
    "score, y_true, pred_y = Custome_classifier(500, path)\n",
    "print(\"best No of K = \",500,\"Test-f1-score = \", score)\n",
    "plot_confusion_matrix(y_true, pred_y)"
   ]
  },
  {
   "cell_type": "markdown",
   "metadata": {
    "id": "J7EA5mQxTfOo"
   },
   "source": [
    "after training the ensemble model with best k=50, results have been improved as compare to our old results thatwe have noted for single classifier (e.g logistic regression, svm, decision-tree, random,forest etc...),\n",
    "  micro f1-score doesn't improved much but the precision and Recall become batter as compare to the previous results.."
   ]
  },
  {
   "cell_type": "code",
   "execution_count": null,
   "metadata": {
    "id": "xROV2E2fW5QR"
   },
   "outputs": [],
   "source": []
  },
  {
   "cell_type": "markdown",
   "metadata": {
    "id": "w8uB3FHTXhNg"
   },
   "source": [
    "##Dataset with (Measure Columns + Histogram bins Columns):"
   ]
  },
  {
   "cell_type": "code",
   "execution_count": 13,
   "metadata": {
    "colab": {
     "base_uri": "https://localhost:8080/",
     "height": 67,
     "referenced_widgets": [
      "08376ced81024ee1a24c03a0121824f6",
      "d667bbfef74d4ba89b37907aa1ab018e",
      "eaa95084d1a24559910b34843e3e432e",
      "1b0a824d37204dfeaf210fd490e73320",
      "3e8f3df178b94559b72f0146c94c5f0c",
      "c2db62bd187a4dd29440dde30f34d560",
      "9014cc7bc2e04f1db46a6272ed530c48",
      "6f94abec8bc6450facfa5891d973f3e5"
     ]
    },
    "id": "pjxrCmvElX09",
    "outputId": "156ed1d7-3663-4604-c9cd-e36124b4bd02"
   },
   "outputs": [
    {
     "data": {
      "application/vnd.jupyter.widget-view+json": {
       "model_id": "08376ced81024ee1a24c03a0121824f6",
       "version_major": 2,
       "version_minor": 0
      },
      "text/plain": [
       "HBox(children=(FloatProgress(value=0.0, max=7.0), HTML(value='')))"
      ]
     },
     "metadata": {
      "tags": []
     },
     "output_type": "display_data"
    },
    {
     "name": "stdout",
     "output_type": "stream",
     "text": [
      "\n"
     ]
    }
   ],
   "source": [
    "##Hyperparameter tuning for number of base models (k)\n",
    "\n",
    "#Selecting the Dataset path\n",
    "path = '/content/drive/My Drive/Case-Study 2 /Datasets/histo_final_data.csv'\n",
    "\n",
    "score2 = {}\n",
    "for k in tqdm.tqdm_notebook([5, 10, 50, 100, 200, 500, 1000]):\n",
    " score2[k],_, _ = Custome_classifier(k, path)"
   ]
  },
  {
   "cell_type": "code",
   "execution_count": 14,
   "metadata": {
    "colab": {
     "base_uri": "https://localhost:8080/",
     "height": 360
    },
    "id": "hCaoO9Z71P5C",
    "outputId": "770000ee-f9c1-4bc9-ce75-2b73c8b56c20"
   },
   "outputs": [
    {
     "data": {
      "image/png": "[encoded data removed]",
      "text/plain": [
       "<Figure size 576x360 with 1 Axes>"
      ]
     },
     "metadata": {
      "needs_background": "light",
      "tags": []
     },
     "output_type": "display_data"
    }
   ],
   "source": [
    "##Plotting the results of Hyperparameter Tuning \n",
    "\n",
    "fig = plt.figure(figsize=(8,5))\n",
    "plt.scatter(score2.keys(), score2.values(), marker='X', c='r', s=200)\n",
    "plt.title(\"Hyperparameter tuning for k\", fontsize=20)\n",
    "plt.xlabel(\"Number of k\", fontsize=15)\n",
    "plt.ylabel(\"f1-Score(Micro)\", fontsize=15)\n",
    "plt.show()"
   ]
  },
  {
   "cell_type": "markdown",
   "metadata": {
    "id": "jCBIRdEAS6s-"
   },
   "source": [
    "here we can see that we have achived micro f1-score ~0.9880 with k=50, so now we are going to train our model with k=50"
   ]
  },
  {
   "cell_type": "code",
   "execution_count": 27,
   "metadata": {
    "colab": {
     "base_uri": "https://localhost:8080/",
     "height": 313
    },
    "id": "4VY9rFVAIKZ5",
    "outputId": "7585f278-59ad-47cc-9d10-8b38a2471b4b"
   },
   "outputs": [
    {
     "name": "stdout",
     "output_type": "stream",
     "text": [
      "best No of K =  50 Test-f1-score =  0.9869921310422354\n"
     ]
    },
    {
     "data": {
      "image/png": "[encoded data removed]",
      "text/plain": [
       "<Figure size 1440x288 with 6 Axes>"
      ]
     },
     "metadata": {
      "needs_background": "light",
      "tags": []
     },
     "output_type": "display_data"
    }
   ],
   "source": [
    "##Training our model with best K\n",
    "\n",
    "#Selecting the Dataset path\n",
    "path = '/content/drive/My Drive/Case-Study 2 /Datasets/histo_final_data.csv'\n",
    "score, y_true, pred_y = Custome_classifier(50, path)\n",
    "print(\"best No of K = \",50,\"Test-f1-score = \", score)\n",
    "plot_confusion_matrix(y_true, pred_y)"
   ]
  },
  {
   "cell_type": "markdown",
   "metadata": {
    "id": "OlKGD7FzUBsG"
   },
   "source": [
    "even with both type of columns's dataset (measuree + Histogram bin's columns) results are looking much better\n",
    "  again micro f1-score doesn't improved much but yeah we can see improvment in  the precision and Recall matrix and also no of True Postives have increased upto ~140"
   ]
  },
  {
   "cell_type": "markdown",
   "metadata": {
    "id": "Wvp1kCIblrY_"
   },
   "source": [
    "##Result Comparision"
   ]
  },
  {
   "cell_type": "code",
   "execution_count": 17,
   "metadata": {
    "colab": {
     "base_uri": "https://localhost:8080/",
     "height": 212
    },
    "id": "JYDLeJtjldn4",
    "outputId": "6b5ca52b-7c6b-492b-985e-964cd2725001"
   },
   "outputs": [
    {
     "name": "stdout",
     "output_type": "stream",
     "text": [
      "+----+---------+--------------------------------------------+-----------------------------------------+\n",
      "| No | No of K | micro F1-Score (without Histogram columns) | micro F1-Score (with Histogram columns) |\n",
      "+----+---------+--------------------------------------------+-----------------------------------------+\n",
      "| 1  |    5    |             0.9802714425633133             |            0.9770354906054279           |\n",
      "| 2  |    10   |             0.982230306422275              |            0.9815320378994701           |\n",
      "| 3  |    50   |             0.9833496571988247             |            0.9876344949413843           |\n",
      "| 4  |   100   |             0.9826500629634812             |            0.9853862212943633           |\n",
      "| 5  |   200   |             0.9830698195046873             |            0.9828167656977678           |\n",
      "| 6  |   500   |             0.9857282775989926             |            0.9871527220170226           |\n",
      "| 7  |   1000  |             0.9847488456695117             |            0.9865103581178738           |\n",
      "+----+---------+--------------------------------------------+-----------------------------------------+\n"
     ]
    }
   ],
   "source": [
    "from prettytable import PrettyTable\n",
    "\n",
    "x = PrettyTable()\n",
    "x.field_names = [\"No\", \"No of K\", \"micro F1-Score (without Histogram columns)\", \"micro F1-Score (with Histogram columns)\"]\n",
    "for idx in range(7):\n",
    "  x.add_row([idx+1, list(score1.keys())[idx], list(score1.values())[idx], list(score2.values())[idx]])\n",
    "print(x)"
   ]
  },
  {
   "cell_type": "markdown",
   "metadata": {
    "id": "vmgN2-qfRwWr"
   },
   "source": [
    "##Final Conclusion: \n",
    "  So, here in these experiments we have trained our custom classifier for both kind of Datasets to check with which dataset we can achieved better results, so to check this we did hyperparameter tuning for both dataset to tune the K parameter for our custom ensemble classification model\n",
    "  after doing the hyperpparameter tuning for k, we have shown the results in the above table in which we can notice that Overall This Custom Ensemble classifier gave  better results with (Measure + histogram bin's columns dataset)"
   ]
  },
  {
   "cell_type": "markdown",
   "metadata": {
    "id": "IxvTB0xUUzsN"
   },
   "source": [
    "  in Conclusion we can choose this Custom ensemble classifier with k=500 and which has been trained by feeding the dataset which contains (measure and Histogram bin's column).\n",
    "\n",
    "  Thank You "
   ]
  }
 ],
 "metadata": {
  "colab": {
   "collapsed_sections": [],
   "name": "Custom ensamble Classifer.ipynb",
   "provenance": []
  },
  "kernelspec": {
   "display_name": "Python 3",
   "language": "python",
   "name": "python3"
  },
  "language_info": {
   "codemirror_mode": {
    "name": "ipython",
    "version": 3
   },
   "file_extension": ".py",
   "mimetype": "text/x-python",
   "name": "python",
   "nbconvert_exporter": "python",
   "pygments_lexer": "ipython3",
   "version": "3.7.4"
  },
  "widgets": {
   "application/vnd.jupyter.widget-state+json": {
    "08376ced81024ee1a24c03a0121824f6": {
     "model_module": "@jupyter-widgets/controls",
     "model_name": "HBoxModel",
     "state": {
      "_dom_classes": [],
      "_model_module": "@jupyter-widgets/controls",
      "_model_module_version": "1.5.0",
      "_model_name": "HBoxModel",
      "_view_count": null,
      "_view_module": "@jupyter-widgets/controls",
      "_view_module_version": "1.5.0",
      "_view_name": "HBoxView",
      "box_style": "",
      "children": [
       "IPY_MODEL_eaa95084d1a24559910b34843e3e432e",
       "IPY_MODEL_1b0a824d37204dfeaf210fd490e73320"
      ],
      "layout": "IPY_MODEL_d667bbfef74d4ba89b37907aa1ab018e"
     }
    },
    "1b0a824d37204dfeaf210fd490e73320": {
     "model_module": "@jupyter-widgets/controls",
     "model_name": "HTMLModel",
     "state": {
      "_dom_classes": [],
      "_model_module": "@jupyter-widgets/controls",
      "_model_module_version": "1.5.0",
      "_model_name": "HTMLModel",
      "_view_count": null,
      "_view_module": "@jupyter-widgets/controls",
      "_view_module_version": "1.5.0",
      "_view_name": "HTMLView",
      "description": "",
      "description_tooltip": null,
      "layout": "IPY_MODEL_6f94abec8bc6450facfa5891d973f3e5",
      "placeholder": "​",
      "style": "IPY_MODEL_9014cc7bc2e04f1db46a6272ed530c48",
      "value": " 7/7 [55:11&lt;00:00, 473.13s/it]"
     }
    },
    "26207d8f239e4033b1f5d9df0b4826ee": {
     "model_module": "@jupyter-widgets/base",
     "model_name": "LayoutModel",
     "state": {
      "_model_module": "@jupyter-widgets/base",
      "_model_module_version": "1.2.0",
      "_model_name": "LayoutModel",
      "_view_count": null,
      "_view_module": "@jupyter-widgets/base",
      "_view_module_version": "1.2.0",
      "_view_name": "LayoutView",
      "align_content": null,
      "align_items": null,
      "align_self": null,
      "border": null,
      "bottom": null,
      "display": null,
      "flex": null,
      "flex_flow": null,
      "grid_area": null,
      "grid_auto_columns": null,
      "grid_auto_flow": null,
      "grid_auto_rows": null,
      "grid_column": null,
      "grid_gap": null,
      "grid_row": null,
      "grid_template_areas": null,
      "grid_template_columns": null,
      "grid_template_rows": null,
      "height": null,
      "justify_content": null,
      "justify_items": null,
      "left": null,
      "margin": null,
      "max_height": null,
      "max_width": null,
      "min_height": null,
      "min_width": null,
      "object_fit": null,
      "object_position": null,
      "order": null,
      "overflow": null,
      "overflow_x": null,
      "overflow_y": null,
      "padding": null,
      "right": null,
      "top": null,
      "visibility": null,
      "width": null
     }
    },
    "369afd71cd704b7a911927f8094a3d08": {
     "model_module": "@jupyter-widgets/controls",
     "model_name": "HBoxModel",
     "state": {
      "_dom_classes": [],
      "_model_module": "@jupyter-widgets/controls",
      "_model_module_version": "1.5.0",
      "_model_name": "HBoxModel",
      "_view_count": null,
      "_view_module": "@jupyter-widgets/controls",
      "_view_module_version": "1.5.0",
      "_view_name": "HBoxView",
      "box_style": "",
      "children": [
       "IPY_MODEL_81547eecd389467fadd47199e7a35752",
       "IPY_MODEL_faef5c8f84dc4648acf81718dfdfedbb"
      ],
      "layout": "IPY_MODEL_26207d8f239e4033b1f5d9df0b4826ee"
     }
    },
    "3e8f3df178b94559b72f0146c94c5f0c": {
     "model_module": "@jupyter-widgets/controls",
     "model_name": "ProgressStyleModel",
     "state": {
      "_model_module": "@jupyter-widgets/controls",
      "_model_module_version": "1.5.0",
      "_model_name": "ProgressStyleModel",
      "_view_count": null,
      "_view_module": "@jupyter-widgets/base",
      "_view_module_version": "1.2.0",
      "_view_name": "StyleView",
      "bar_color": null,
      "description_width": "initial"
     }
    },
    "5855177eb03340d6a6e8c7578c4cf7fd": {
     "model_module": "@jupyter-widgets/base",
     "model_name": "LayoutModel",
     "state": {
      "_model_module": "@jupyter-widgets/base",
      "_model_module_version": "1.2.0",
      "_model_name": "LayoutModel",
      "_view_count": null,
      "_view_module": "@jupyter-widgets/base",
      "_view_module_version": "1.2.0",
      "_view_name": "LayoutView",
      "align_content": null,
      "align_items": null,
      "align_self": null,
      "border": null,
      "bottom": null,
      "display": null,
      "flex": null,
      "flex_flow": null,
      "grid_area": null,
      "grid_auto_columns": null,
      "grid_auto_flow": null,
      "grid_auto_rows": null,
      "grid_column": null,
      "grid_gap": null,
      "grid_row": null,
      "grid_template_areas": null,
      "grid_template_columns": null,
      "grid_template_rows": null,
      "height": null,
      "justify_content": null,
      "justify_items": null,
      "left": null,
      "margin": null,
      "max_height": null,
      "max_width": null,
      "min_height": null,
      "min_width": null,
      "object_fit": null,
      "object_position": null,
      "order": null,
      "overflow": null,
      "overflow_x": null,
      "overflow_y": null,
      "padding": null,
      "right": null,
      "top": null,
      "visibility": null,
      "width": null
     }
    },
    "605cc6d785564a5386cd74ee5954bf45": {
     "model_module": "@jupyter-widgets/base",
     "model_name": "LayoutModel",
     "state": {
      "_model_module": "@jupyter-widgets/base",
      "_model_module_version": "1.2.0",
      "_model_name": "LayoutModel",
      "_view_count": null,
      "_view_module": "@jupyter-widgets/base",
      "_view_module_version": "1.2.0",
      "_view_name": "LayoutView",
      "align_content": null,
      "align_items": null,
      "align_self": null,
      "border": null,
      "bottom": null,
      "display": null,
      "flex": null,
      "flex_flow": null,
      "grid_area": null,
      "grid_auto_columns": null,
      "grid_auto_flow": null,
      "grid_auto_rows": null,
      "grid_column": null,
      "grid_gap": null,
      "grid_row": null,
      "grid_template_areas": null,
      "grid_template_columns": null,
      "grid_template_rows": null,
      "height": null,
      "justify_content": null,
      "justify_items": null,
      "left": null,
      "margin": null,
      "max_height": null,
      "max_width": null,
      "min_height": null,
      "min_width": null,
      "object_fit": null,
      "object_position": null,
      "order": null,
      "overflow": null,
      "overflow_x": null,
      "overflow_y": null,
      "padding": null,
      "right": null,
      "top": null,
      "visibility": null,
      "width": null
     }
    },
    "6f94abec8bc6450facfa5891d973f3e5": {
     "model_module": "@jupyter-widgets/base",
     "model_name": "LayoutModel",
     "state": {
      "_model_module": "@jupyter-widgets/base",
      "_model_module_version": "1.2.0",
      "_model_name": "LayoutModel",
      "_view_count": null,
      "_view_module": "@jupyter-widgets/base",
      "_view_module_version": "1.2.0",
      "_view_name": "LayoutView",
      "align_content": null,
      "align_items": null,
      "align_self": null,
      "border": null,
      "bottom": null,
      "display": null,
      "flex": null,
      "flex_flow": null,
      "grid_area": null,
      "grid_auto_columns": null,
      "grid_auto_flow": null,
      "grid_auto_rows": null,
      "grid_column": null,
      "grid_gap": null,
      "grid_row": null,
      "grid_template_areas": null,
      "grid_template_columns": null,
      "grid_template_rows": null,
      "height": null,
      "justify_content": null,
      "justify_items": null,
      "left": null,
      "margin": null,
      "max_height": null,
      "max_width": null,
      "min_height": null,
      "min_width": null,
      "object_fit": null,
      "object_position": null,
      "order": null,
      "overflow": null,
      "overflow_x": null,
      "overflow_y": null,
      "padding": null,
      "right": null,
      "top": null,
      "visibility": null,
      "width": null
     }
    },
    "81547eecd389467fadd47199e7a35752": {
     "model_module": "@jupyter-widgets/controls",
     "model_name": "FloatProgressModel",
     "state": {
      "_dom_classes": [],
      "_model_module": "@jupyter-widgets/controls",
      "_model_module_version": "1.5.0",
      "_model_name": "FloatProgressModel",
      "_view_count": null,
      "_view_module": "@jupyter-widgets/controls",
      "_view_module_version": "1.5.0",
      "_view_name": "ProgressView",
      "bar_style": "success",
      "description": "100%",
      "description_tooltip": null,
      "layout": "IPY_MODEL_605cc6d785564a5386cd74ee5954bf45",
      "max": 7,
      "min": 0,
      "orientation": "horizontal",
      "style": "IPY_MODEL_aa58892f9d6d434487127e493a9cffe0",
      "value": 7
     }
    },
    "9014cc7bc2e04f1db46a6272ed530c48": {
     "model_module": "@jupyter-widgets/controls",
     "model_name": "DescriptionStyleModel",
     "state": {
      "_model_module": "@jupyter-widgets/controls",
      "_model_module_version": "1.5.0",
      "_model_name": "DescriptionStyleModel",
      "_view_count": null,
      "_view_module": "@jupyter-widgets/base",
      "_view_module_version": "1.2.0",
      "_view_name": "StyleView",
      "description_width": ""
     }
    },
    "aa58892f9d6d434487127e493a9cffe0": {
     "model_module": "@jupyter-widgets/controls",
     "model_name": "ProgressStyleModel",
     "state": {
      "_model_module": "@jupyter-widgets/controls",
      "_model_module_version": "1.5.0",
      "_model_name": "ProgressStyleModel",
      "_view_count": null,
      "_view_module": "@jupyter-widgets/base",
      "_view_module_version": "1.2.0",
      "_view_name": "StyleView",
      "bar_color": null,
      "description_width": "initial"
     }
    },
    "b32165856e764bd9b3fb39e60fa469a5": {
     "model_module": "@jupyter-widgets/controls",
     "model_name": "DescriptionStyleModel",
     "state": {
      "_model_module": "@jupyter-widgets/controls",
      "_model_module_version": "1.5.0",
      "_model_name": "DescriptionStyleModel",
      "_view_count": null,
      "_view_module": "@jupyter-widgets/base",
      "_view_module_version": "1.2.0",
      "_view_name": "StyleView",
      "description_width": ""
     }
    },
    "c2db62bd187a4dd29440dde30f34d560": {
     "model_module": "@jupyter-widgets/base",
     "model_name": "LayoutModel",
     "state": {
      "_model_module": "@jupyter-widgets/base",
      "_model_module_version": "1.2.0",
      "_model_name": "LayoutModel",
      "_view_count": null,
      "_view_module": "@jupyter-widgets/base",
      "_view_module_version": "1.2.0",
      "_view_name": "LayoutView",
      "align_content": null,
      "align_items": null,
      "align_self": null,
      "border": null,
      "bottom": null,
      "display": null,
      "flex": null,
      "flex_flow": null,
      "grid_area": null,
      "grid_auto_columns": null,
      "grid_auto_flow": null,
      "grid_auto_rows": null,
      "grid_column": null,
      "grid_gap": null,
      "grid_row": null,
      "grid_template_areas": null,
      "grid_template_columns": null,
      "grid_template_rows": null,
      "height": null,
      "justify_content": null,
      "justify_items": null,
      "left": null,
      "margin": null,
      "max_height": null,
      "max_width": null,
      "min_height": null,
      "min_width": null,
      "object_fit": null,
      "object_position": null,
      "order": null,
      "overflow": null,
      "overflow_x": null,
      "overflow_y": null,
      "padding": null,
      "right": null,
      "top": null,
      "visibility": null,
      "width": null
     }
    },
    "d667bbfef74d4ba89b37907aa1ab018e": {
     "model_module": "@jupyter-widgets/base",
     "model_name": "LayoutModel",
     "state": {
      "_model_module": "@jupyter-widgets/base",
      "_model_module_version": "1.2.0",
      "_model_name": "LayoutModel",
      "_view_count": null,
      "_view_module": "@jupyter-widgets/base",
      "_view_module_version": "1.2.0",
      "_view_name": "LayoutView",
      "align_content": null,
      "align_items": null,
      "align_self": null,
      "border": null,
      "bottom": null,
      "display": null,
      "flex": null,
      "flex_flow": null,
      "grid_area": null,
      "grid_auto_columns": null,
      "grid_auto_flow": null,
      "grid_auto_rows": null,
      "grid_column": null,
      "grid_gap": null,
      "grid_row": null,
      "grid_template_areas": null,
      "grid_template_columns": null,
      "grid_template_rows": null,
      "height": null,
      "justify_content": null,
      "justify_items": null,
      "left": null,
      "margin": null,
      "max_height": null,
      "max_width": null,
      "min_height": null,
      "min_width": null,
      "object_fit": null,
      "object_position": null,
      "order": null,
      "overflow": null,
      "overflow_x": null,
      "overflow_y": null,
      "padding": null,
      "right": null,
      "top": null,
      "visibility": null,
      "width": null
     }
    },
    "eaa95084d1a24559910b34843e3e432e": {
     "model_module": "@jupyter-widgets/controls",
     "model_name": "FloatProgressModel",
     "state": {
      "_dom_classes": [],
      "_model_module": "@jupyter-widgets/controls",
      "_model_module_version": "1.5.0",
      "_model_name": "FloatProgressModel",
      "_view_count": null,
      "_view_module": "@jupyter-widgets/controls",
      "_view_module_version": "1.5.0",
      "_view_name": "ProgressView",
      "bar_style": "success",
      "description": "100%",
      "description_tooltip": null,
      "layout": "IPY_MODEL_c2db62bd187a4dd29440dde30f34d560",
      "max": 7,
      "min": 0,
      "orientation": "horizontal",
      "style": "IPY_MODEL_3e8f3df178b94559b72f0146c94c5f0c",
      "value": 7
     }
    },
    "faef5c8f84dc4648acf81718dfdfedbb": {
     "model_module": "@jupyter-widgets/controls",
     "model_name": "HTMLModel",
     "state": {
      "_dom_classes": [],
      "_model_module": "@jupyter-widgets/controls",
      "_model_module_version": "1.5.0",
      "_model_name": "HTMLModel",
      "_view_count": null,
      "_view_module": "@jupyter-widgets/controls",
      "_view_module_version": "1.5.0",
      "_view_name": "HTMLView",
      "description": "",
      "description_tooltip": null,
      "layout": "IPY_MODEL_5855177eb03340d6a6e8c7578c4cf7fd",
      "placeholder": "​",
      "style": "IPY_MODEL_b32165856e764bd9b3fb39e60fa469a5",
      "value": " 7/7 [1:04:01&lt;00:00, 548.80s/it]"
     }
    }
   }
  }
 },
 "nbformat": 4,
 "nbformat_minor": 1
}
