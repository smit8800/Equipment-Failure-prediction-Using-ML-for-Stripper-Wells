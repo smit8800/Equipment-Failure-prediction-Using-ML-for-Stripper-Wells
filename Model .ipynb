{
 "cells": [
  {
   "cell_type": "code",
   "execution_count": 115,
   "metadata": {},
   "outputs": [],
   "source": [
    "import numpy as np\n",
    "import pandas as pd\n",
    "import imblearn\n",
    "import seaborn as sns\n",
    "import matplotlib.pyplot as plt\n",
    "from scipy import stats \n",
    "from sklearn.model_selection import train_test_split\n",
    "from sklearn.preprocessing import MinMaxScaler\n",
    "from sklearn.linear_model import LogisticRegression\n",
    "from sklearn.metrics import classification_report, confusion_matrix, log_loss\n",
    "from imblearn.over_sampling import SMOTE"
   ]
  },
  {
   "cell_type": "code",
   "execution_count": 116,
   "metadata": {},
   "outputs": [
    {
     "data": {
      "text/html": [
       "<div>\n",
       "<style scoped>\n",
       "    .dataframe tbody tr th:only-of-type {\n",
       "        vertical-align: middle;\n",
       "    }\n",
       "\n",
       "    .dataframe tbody tr th {\n",
       "        vertical-align: top;\n",
       "    }\n",
       "\n",
       "    .dataframe thead th {\n",
       "        text-align: right;\n",
       "    }\n",
       "</style>\n",
       "<table border=\"1\" class=\"dataframe\">\n",
       "  <thead>\n",
       "    <tr style=\"text-align: right;\">\n",
       "      <th></th>\n",
       "      <th>target</th>\n",
       "      <th>sensor1_measure</th>\n",
       "      <th>sensor15_measure</th>\n",
       "      <th>sensor16_measure</th>\n",
       "      <th>sensor17_measure</th>\n",
       "      <th>sensor27_measure</th>\n",
       "      <th>sensor33_measure</th>\n",
       "      <th>sensor35_measure</th>\n",
       "      <th>sensor45_measure</th>\n",
       "      <th>sensor46_measure</th>\n",
       "      <th>sensor47_measure</th>\n",
       "      <th>sensor48_measure</th>\n",
       "      <th>sensor53_measure</th>\n",
       "      <th>sensor55_measure</th>\n",
       "      <th>sensor60_measure</th>\n",
       "      <th>sensor66_measure</th>\n",
       "    </tr>\n",
       "  </thead>\n",
       "  <tbody>\n",
       "    <tr>\n",
       "      <th>0</th>\n",
       "      <td>0.0</td>\n",
       "      <td>40626.0</td>\n",
       "      <td>2495580.0</td>\n",
       "      <td>864780.0</td>\n",
       "      <td>509424.0</td>\n",
       "      <td>3980738.0</td>\n",
       "      <td>75288.0</td>\n",
       "      <td>480466.0</td>\n",
       "      <td>40625.07</td>\n",
       "      <td>3980738.0</td>\n",
       "      <td>3980738.0</td>\n",
       "      <td>3975938.0</td>\n",
       "      <td>3782688.0</td>\n",
       "      <td>0.0</td>\n",
       "      <td>0.0</td>\n",
       "      <td>0.0</td>\n",
       "    </tr>\n",
       "    <tr>\n",
       "      <th>1</th>\n",
       "      <td>0.0</td>\n",
       "      <td>82.0</td>\n",
       "      <td>6684.0</td>\n",
       "      <td>24010.0</td>\n",
       "      <td>2060.0</td>\n",
       "      <td>35448.0</td>\n",
       "      <td>300.0</td>\n",
       "      <td>4460.0</td>\n",
       "      <td>82.42</td>\n",
       "      <td>35448.0</td>\n",
       "      <td>35448.0</td>\n",
       "      <td>30426.0</td>\n",
       "      <td>14088.0</td>\n",
       "      <td>0.0</td>\n",
       "      <td>0.0</td>\n",
       "      <td>0.0</td>\n",
       "    </tr>\n",
       "    <tr>\n",
       "      <th>2</th>\n",
       "      <td>0.0</td>\n",
       "      <td>61834.0</td>\n",
       "      <td>3519322.0</td>\n",
       "      <td>1724710.0</td>\n",
       "      <td>399610.0</td>\n",
       "      <td>5787428.0</td>\n",
       "      <td>64124.0</td>\n",
       "      <td>479432.0</td>\n",
       "      <td>61834.46</td>\n",
       "      <td>5787428.0</td>\n",
       "      <td>5787428.0</td>\n",
       "      <td>5780574.0</td>\n",
       "      <td>4504504.0</td>\n",
       "      <td>147646.0</td>\n",
       "      <td>0.0</td>\n",
       "      <td>130.0</td>\n",
       "    </tr>\n",
       "    <tr>\n",
       "      <th>3</th>\n",
       "      <td>0.0</td>\n",
       "      <td>37028.0</td>\n",
       "      <td>1917384.0</td>\n",
       "      <td>662454.0</td>\n",
       "      <td>287446.0</td>\n",
       "      <td>2940310.0</td>\n",
       "      <td>38520.0</td>\n",
       "      <td>246210.0</td>\n",
       "      <td>37027.64</td>\n",
       "      <td>2940310.0</td>\n",
       "      <td>2940310.0</td>\n",
       "      <td>2929250.0</td>\n",
       "      <td>2603786.0</td>\n",
       "      <td>71304.0</td>\n",
       "      <td>0.0</td>\n",
       "      <td>92.0</td>\n",
       "    </tr>\n",
       "    <tr>\n",
       "      <th>4</th>\n",
       "      <td>0.0</td>\n",
       "      <td>60682.0</td>\n",
       "      <td>3239938.0</td>\n",
       "      <td>665430.0</td>\n",
       "      <td>380472.0</td>\n",
       "      <td>4355786.0</td>\n",
       "      <td>42342.0</td>\n",
       "      <td>347630.0</td>\n",
       "      <td>60681.80</td>\n",
       "      <td>4355786.0</td>\n",
       "      <td>4355786.0</td>\n",
       "      <td>4357888.0</td>\n",
       "      <td>4086220.0</td>\n",
       "      <td>134536.0</td>\n",
       "      <td>0.0</td>\n",
       "      <td>38.0</td>\n",
       "    </tr>\n",
       "  </tbody>\n",
       "</table>\n",
       "</div>"
      ],
      "text/plain": [
       "   target  sensor1_measure  sensor15_measure  sensor16_measure  \\\n",
       "0     0.0          40626.0         2495580.0          864780.0   \n",
       "1     0.0             82.0            6684.0           24010.0   \n",
       "2     0.0          61834.0         3519322.0         1724710.0   \n",
       "3     0.0          37028.0         1917384.0          662454.0   \n",
       "4     0.0          60682.0         3239938.0          665430.0   \n",
       "\n",
       "   sensor17_measure  sensor27_measure  sensor33_measure  sensor35_measure  \\\n",
       "0          509424.0         3980738.0           75288.0          480466.0   \n",
       "1            2060.0           35448.0             300.0            4460.0   \n",
       "2          399610.0         5787428.0           64124.0          479432.0   \n",
       "3          287446.0         2940310.0           38520.0          246210.0   \n",
       "4          380472.0         4355786.0           42342.0          347630.0   \n",
       "\n",
       "   sensor45_measure  sensor46_measure  sensor47_measure  sensor48_measure  \\\n",
       "0          40625.07         3980738.0         3980738.0         3975938.0   \n",
       "1             82.42           35448.0           35448.0           30426.0   \n",
       "2          61834.46         5787428.0         5787428.0         5780574.0   \n",
       "3          37027.64         2940310.0         2940310.0         2929250.0   \n",
       "4          60681.80         4355786.0         4355786.0         4357888.0   \n",
       "\n",
       "   sensor53_measure  sensor55_measure  sensor60_measure  sensor66_measure  \n",
       "0         3782688.0               0.0               0.0               0.0  \n",
       "1           14088.0               0.0               0.0               0.0  \n",
       "2         4504504.0          147646.0               0.0             130.0  \n",
       "3         2603786.0           71304.0               0.0              92.0  \n",
       "4         4086220.0          134536.0               0.0              38.0  "
      ]
     },
     "execution_count": 116,
     "metadata": {},
     "output_type": "execute_result"
    }
   ],
   "source": [
    "data = pd.read_csv(r'C:\\Users\\smith\\Practice\\Case study 1\\Data\\final_data.csv')\n",
    "data.head()"
   ]
  },
  {
   "cell_type": "code",
   "execution_count": 146,
   "metadata": {},
   "outputs": [
    {
     "data": {
      "text/plain": [
       "((22870, 15), (22870,), (5718, 15), (5718,), (7147, 15), (7147,))"
      ]
     },
     "execution_count": 146,
     "metadata": {},
     "output_type": "execute_result"
    }
   ],
   "source": [
    "X_train, X_test, y_train, y_test = train_test_split(data.iloc[:,1:].values, data.iloc[:,0].values, test_size=0.20)\n",
    "X_train, X_cv, y_train, y_cv = train_test_split(X_train, y_train, test_size=0.20)\n",
    "X_train.shape, y_train.shape, X_cv.shape, y_cv.shape, X_test.shape, y_test.shape"
   ]
  },
  {
   "cell_type": "code",
   "execution_count": 147,
   "metadata": {},
   "outputs": [],
   "source": [
    "X_train = np.hstack((X_train,np.log((1+ X_train))))\n",
    "X_test = np.hstack((X_test,np.log((1+ X_test))))"
   ]
  },
  {
   "cell_type": "code",
   "execution_count": 148,
   "metadata": {},
   "outputs": [
    {
     "data": {
      "text/plain": [
       "(22870, 30)"
      ]
     },
     "execution_count": 148,
     "metadata": {},
     "output_type": "execute_result"
    }
   ],
   "source": [
    "X_train.shape"
   ]
  },
  {
   "cell_type": "code",
   "execution_count": 149,
   "metadata": {},
   "outputs": [],
   "source": [
    "scaler = MinMaxScaler()\n",
    "scaler.fit(X_train)\n",
    "X_train = scaler.transform(X_train)\n",
    "X_test = scaler.transform(X_test)"
   ]
  },
  {
   "cell_type": "code",
   "execution_count": 153,
   "metadata": {},
   "outputs": [
    {
     "name": "stdout",
     "output_type": "stream",
     "text": [
      "Log=Loss:  0.6185811334032366\n"
     ]
    }
   ],
   "source": [
    "from sklearn.ensemble import GradientBoostingClassifier\n",
    "model = GradientBoostingClassifier(n_estimators=50)\n",
    "model.fit(X_train, y_train)\n",
    "print(\"Log=Loss: \", log_loss(y_test, model.predict(X_test)))"
   ]
  },
  {
   "cell_type": "code",
   "execution_count": 154,
   "metadata": {},
   "outputs": [
    {
     "name": "stdout",
     "output_type": "stream",
     "text": [
      "[[6899   45]\n",
      " [  83  120]]\n",
      "              precision    recall  f1-score   support\n",
      "\n",
      "         0.0       0.99      0.99      0.99      6944\n",
      "         1.0       0.73      0.59      0.65       203\n",
      "\n",
      "    accuracy                           0.98      7147\n",
      "   macro avg       0.86      0.79      0.82      7147\n",
      "weighted avg       0.98      0.98      0.98      7147\n",
      "\n"
     ]
    }
   ],
   "source": [
    "C = confusion_matrix(y_test, model.predict(X_test))\n",
    "print(C)\n",
    "print(classification_report(y_test, model.predict(X_test)))"
   ]
  },
  {
   "cell_type": "code",
   "execution_count": null,
   "metadata": {},
   "outputs": [],
   "source": []
  }
 ],
 "metadata": {
  "kernelspec": {
   "display_name": "Python 3",
   "language": "python",
   "name": "python3"
  },
  "language_info": {
   "codemirror_mode": {
    "name": "ipython",
    "version": 3
   },
   "file_extension": ".py",
   "mimetype": "text/x-python",
   "name": "python",
   "nbconvert_exporter": "python",
   "pygments_lexer": "ipython3",
   "version": "3.7.4"
  }
 },
 "nbformat": 4,
 "nbformat_minor": 2
}
